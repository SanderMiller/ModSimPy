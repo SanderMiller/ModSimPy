{
 "cells": [
  {
   "cell_type": "markdown",
   "metadata": {},
   "source": [
    "# What will be the result current Ebola outbreak in the North Kivu, Democratic Republic of the Congo?\n",
    "\n",
    "### Project 1 Ebola\n",
    "Sander Miller and Riya Aggarwal\n"
   ]
  },
  {
   "cell_type": "code",
   "execution_count": 706,
   "metadata": {},
   "outputs": [],
   "source": [
    "# Configure Jupyter so figures appear in the notebook\n",
    "%matplotlib inline\n",
    "\n",
    "# Configure Jupyter to display the assigned value after an assignment\n",
    "%config InteractiveShell.ast_node_interactivity='last_expr_or_assign'\n",
    "\n",
    "# Import functions from the modsim.py module\n",
    "from modsim import *"
   ]
  },
  {
   "cell_type": "markdown",
   "metadata": {},
   "source": [
    "### Set up State Variables \n",
    "We determined these values by researching the data available on the current Ebola outbreak in North Kivu (http://www.healthmap.org/site/diseasedaily/article/update-current-ebola-outbreak-democratic-republic-congo-91318)\n",
    "\n",
    "- Susceptible Population (almost all of the population initially) - 5767812 people\n",
    "- Infected Population  (low initially) - 35 People\n",
    "- Recovered Population (low initially) - 98 People\n",
    "    - We decided to group the recovered population and dead population together since neither of those bodies could contract Ebola a second time. In further iterations we could separate out these two populations and graph them against each other. "
   ]
  },
  {
   "cell_type": "code",
   "execution_count": 707,
   "metadata": {},
   "outputs": [
    {
     "data": {
      "text/html": [
       "<div>\n",
       "<style scoped>\n",
       "    .dataframe tbody tr th:only-of-type {\n",
       "        vertical-align: middle;\n",
       "    }\n",
       "\n",
       "    .dataframe tbody tr th {\n",
       "        vertical-align: top;\n",
       "    }\n",
       "\n",
       "    .dataframe thead th {\n",
       "        text-align: right;\n",
       "    }\n",
       "</style>\n",
       "<table border=\"1\" class=\"dataframe\">\n",
       "  <thead>\n",
       "    <tr style=\"text-align: right;\">\n",
       "      <th></th>\n",
       "      <th>values</th>\n",
       "    </tr>\n",
       "  </thead>\n",
       "  <tbody>\n",
       "    <tr>\n",
       "      <th>Spop</th>\n",
       "      <td>0.999977</td>\n",
       "    </tr>\n",
       "    <tr>\n",
       "      <th>Ipop</th>\n",
       "      <td>0.000006</td>\n",
       "    </tr>\n",
       "    <tr>\n",
       "      <th>Rpop</th>\n",
       "      <td>0.000017</td>\n",
       "    </tr>\n",
       "  </tbody>\n",
       "</table>\n",
       "</div>"
      ],
      "text/plain": [
       "Spop    0.999977\n",
       "Ipop    0.000006\n",
       "Rpop    0.000017\n",
       "dtype: float64"
      ]
     },
     "execution_count": 707,
     "metadata": {},
     "output_type": "execute_result"
    }
   ],
   "source": [
    "init = State (Spop = 5767812,  # Initial Susceptible Population\n",
    "              Ipop = 35,       # Initial Infected Population\n",
    "              Rpop = 98)       # Initial Cured/Immune Population\n",
    "\n",
    "init /= sum (init)             # Convert the population numbers to proportions"
   ]
  },
  {
   "cell_type": "markdown",
   "metadata": {},
   "source": [
    "### Set up System Variables\n",
    "- Intial Population (p_0)\n",
    "- Duration (t_0 until t_end)\n",
    "    - Our model’s timeline is based the number of contacts an infected person would have with a susceptible individual. We picked two for contNum because it gave us an outbreak length of about 22 days, similar to those of previous outbreaks.\n",
    "- Recovery Rate (Percent of the infected population who recover each day)\n",
    "    - Note: If an individual is cured, they will no longer be susceptible to the disease, as there is no documented case of anyone catching it twice (https://well.blogs.nytimes.com/2014/11/10/ask-well-immune-to-ebola/)\n",
    "- Contact Rate (Number of contacts with another individual per day)"
   ]
  },
  {
   "cell_type": "code",
   "execution_count": 708,
   "metadata": {},
   "outputs": [
    {
     "data": {
      "text/html": [
       "<div>\n",
       "<style scoped>\n",
       "    .dataframe tbody tr th:only-of-type {\n",
       "        vertical-align: middle;\n",
       "    }\n",
       "\n",
       "    .dataframe tbody tr th {\n",
       "        vertical-align: top;\n",
       "    }\n",
       "\n",
       "    .dataframe thead th {\n",
       "        text-align: right;\n",
       "    }\n",
       "</style>\n",
       "<table border=\"1\" class=\"dataframe\">\n",
       "  <thead>\n",
       "    <tr style=\"text-align: right;\">\n",
       "      <th></th>\n",
       "      <th>values</th>\n",
       "    </tr>\n",
       "  </thead>\n",
       "  <tbody>\n",
       "    <tr>\n",
       "      <th>init</th>\n",
       "      <td>S    0.999977\n",
       "I    0.000006\n",
       "R    0.000017\n",
       "dtyp...</td>\n",
       "    </tr>\n",
       "    <tr>\n",
       "      <th>p_0</th>\n",
       "      <td>5767945</td>\n",
       "    </tr>\n",
       "    <tr>\n",
       "      <th>t_0</th>\n",
       "      <td>0</td>\n",
       "    </tr>\n",
       "    <tr>\n",
       "      <th>t_end</th>\n",
       "      <td>25</td>\n",
       "    </tr>\n",
       "    <tr>\n",
       "      <th>recovRate</th>\n",
       "      <td>0.36</td>\n",
       "    </tr>\n",
       "    <tr>\n",
       "      <th>contRate</th>\n",
       "      <td>2</td>\n",
       "    </tr>\n",
       "  </tbody>\n",
       "</table>\n",
       "</div>"
      ],
      "text/plain": [
       "init         S    0.999977\n",
       "I    0.000006\n",
       "R    0.000017\n",
       "dtyp...\n",
       "p_0                                                    5767945\n",
       "t_0                                                          0\n",
       "t_end                                                       25\n",
       "recovRate                                                 0.36\n",
       "contRate                                                     2\n",
       "dtype: object"
      ]
     },
     "execution_count": 708,
     "metadata": {},
     "output_type": "execute_result"
    }
   ],
   "source": [
    "init2 = State(S=5767812, I = 35, R = 98)\n",
    "init2 /= sum(init2)\n",
    "\n",
    "system = System(init = init2,\n",
    "                p_0 = 5767945,      # Initial Population of North Kivu\n",
    "                t_0=0,              # Time Started (day zero)\n",
    "                t_end=25,           # Time Ended (what we're trying to find)\n",
    "                recovRate = 0.36,   # Percent of the infected population who recovers each day\n",
    "                contRate = 2)       # Number of contacts with another susceptible "
   ]
  },
  {
   "cell_type": "markdown",
   "metadata": {},
   "source": [
    "### Plot Results\n",
    "Takes in the three TimeSeries() for the Susceptible, Infected, and Recovered Populations and plots them with axis labels and a title"
   ]
  },
  {
   "cell_type": "code",
   "execution_count": 709,
   "metadata": {},
   "outputs": [],
   "source": [
    "def plot_results(S, I, R):\n",
    "    plot(S, '--', label='Susceptible')\n",
    "    plot(I, '-', label='Infected')\n",
    "    plot(R, ':', label='Recovered')\n",
    "    decorate(title='North Kivu Ebola Outbreak',\n",
    "             xlabel='Time (days)',\n",
    "             ylabel='Population (millions)')"
   ]
  },
  {
   "cell_type": "markdown",
   "metadata": {},
   "source": [
    "### Run Simulation\n",
    "Runs the simulation from initial time (t_0 to t_end), calling update func each time step (one day)\n",
    "\n",
    "- Create three TimeSeries for the three categories of populations\n",
    "- Initialize them at the intial time, and then loop through until t_end\n",
    "- Set values from the state returned from update_func to the three TimeSeries \n",
    "- Return the three TimeSeries to plot"
   ]
  },
  {
   "cell_type": "code",
   "execution_count": 710,
   "metadata": {},
   "outputs": [],
   "source": [
    "def run_simulation(system, update_func):\n",
    "    \n",
    "    S = TimeSeries()\n",
    "    I = TimeSeries()\n",
    "    R = TimeSeries()\n",
    "    \n",
    "    state = system.init\n",
    "    S[system.t_0], I[system.t_0], R[system.t_0] = state \n",
    "    \n",
    "    for t in linrange(system.t_0, system.t_end):\n",
    "        state = update_func(state, t, system)\n",
    "        S[t+1], I[t+1], R[t+1] = state\n",
    "        \n",
    "    return S, I, R"
   ]
  },
  {
   "cell_type": "markdown",
   "metadata": {},
   "source": [
    "### Update Function \n",
    "\n",
    "The update function is called each the simulation in order to simulate one time step (one day) passing\n",
    "\n",
    "- Follows the SIR Model (Splitting people into Susceptible, Infectious and Recovered)\n",
    "- The infectious population is the contact rate multiplied by the fraction of infected population and the susceptible population \n",
    "- The recovered population is the recovery rate multiplied by the fraction of the infected population "
   ]
  },
  {
   "cell_type": "code",
   "execution_count": 711,
   "metadata": {},
   "outputs": [],
   "source": [
    "def update_func(newState, t, system):\n",
    "    s, i, r = newState;\n",
    "    \n",
    "    iPop = system.contRate * s * i\n",
    "    rPop = system.recovRate * i \n",
    "    \n",
    "    s -= iPop\n",
    "    i += iPop - rPop\n",
    "    r += rPop\n",
    "    \n",
    "    return State(S=s, I=i, R=r)"
   ]
  },
  {
   "cell_type": "code",
   "execution_count": 712,
   "metadata": {},
   "outputs": [
    {
     "data": {
      "text/html": [
       "<div>\n",
       "<style scoped>\n",
       "    .dataframe tbody tr th:only-of-type {\n",
       "        vertical-align: middle;\n",
       "    }\n",
       "\n",
       "    .dataframe tbody tr th {\n",
       "        vertical-align: top;\n",
       "    }\n",
       "\n",
       "    .dataframe thead th {\n",
       "        text-align: right;\n",
       "    }\n",
       "</style>\n",
       "<table border=\"1\" class=\"dataframe\">\n",
       "  <thead>\n",
       "    <tr style=\"text-align: right;\">\n",
       "      <th></th>\n",
       "      <th>values</th>\n",
       "    </tr>\n",
       "  </thead>\n",
       "  <tbody>\n",
       "    <tr>\n",
       "      <th>S</th>\n",
       "      <td>0.999965</td>\n",
       "    </tr>\n",
       "    <tr>\n",
       "      <th>I</th>\n",
       "      <td>0.000016</td>\n",
       "    </tr>\n",
       "    <tr>\n",
       "      <th>R</th>\n",
       "      <td>0.000019</td>\n",
       "    </tr>\n",
       "  </tbody>\n",
       "</table>\n",
       "</div>"
      ],
      "text/plain": [
       "S    0.999965\n",
       "I    0.000016\n",
       "R    0.000019\n",
       "dtype: float64"
      ]
     },
     "execution_count": 712,
     "metadata": {},
     "output_type": "execute_result"
    }
   ],
   "source": [
    "#Initial Run of the Update Function \n",
    "state = update_func(init, 0, system)"
   ]
  },
  {
   "cell_type": "code",
   "execution_count": 713,
   "metadata": {},
   "outputs": [],
   "source": [
    "# Run the simulation\n",
    "S, I, R = run_simulation(system, update_func);"
   ]
  },
  {
   "cell_type": "code",
   "execution_count": 714,
   "metadata": {},
   "outputs": [
    {
     "data": {
      "text/html": [
       "<div>\n",
       "<style scoped>\n",
       "    .dataframe tbody tr th:only-of-type {\n",
       "        vertical-align: middle;\n",
       "    }\n",
       "\n",
       "    .dataframe tbody tr th {\n",
       "        vertical-align: top;\n",
       "    }\n",
       "\n",
       "    .dataframe thead th {\n",
       "        text-align: right;\n",
       "    }\n",
       "</style>\n",
       "<table border=\"1\" class=\"dataframe\">\n",
       "  <thead>\n",
       "    <tr style=\"text-align: right;\">\n",
       "      <th></th>\n",
       "      <th>values</th>\n",
       "    </tr>\n",
       "  </thead>\n",
       "  <tbody>\n",
       "    <tr>\n",
       "      <th>0</th>\n",
       "      <td>0.000035</td>\n",
       "    </tr>\n",
       "    <tr>\n",
       "      <th>1</th>\n",
       "      <td>0.000092</td>\n",
       "    </tr>\n",
       "    <tr>\n",
       "      <th>2</th>\n",
       "      <td>0.000244</td>\n",
       "    </tr>\n",
       "    <tr>\n",
       "      <th>3</th>\n",
       "      <td>0.000644</td>\n",
       "    </tr>\n",
       "    <tr>\n",
       "      <th>4</th>\n",
       "      <td>0.001700</td>\n",
       "    </tr>\n",
       "    <tr>\n",
       "      <th>5</th>\n",
       "      <td>0.004486</td>\n",
       "    </tr>\n",
       "    <tr>\n",
       "      <th>6</th>\n",
       "      <td>0.011835</td>\n",
       "    </tr>\n",
       "    <tr>\n",
       "      <th>7</th>\n",
       "      <td>0.031184</td>\n",
       "    </tr>\n",
       "    <tr>\n",
       "      <th>8</th>\n",
       "      <td>0.081914</td>\n",
       "    </tr>\n",
       "    <tr>\n",
       "      <th>9</th>\n",
       "      <td>0.213410</td>\n",
       "    </tr>\n",
       "    <tr>\n",
       "      <th>10</th>\n",
       "      <td>0.544082</td>\n",
       "    </tr>\n",
       "    <tr>\n",
       "      <th>11</th>\n",
       "      <td>1.310246</td>\n",
       "    </tr>\n",
       "    <tr>\n",
       "      <th>12</th>\n",
       "      <td>2.718231</td>\n",
       "    </tr>\n",
       "    <tr>\n",
       "      <th>13</th>\n",
       "      <td>3.867582</td>\n",
       "    </tr>\n",
       "    <tr>\n",
       "      <th>14</th>\n",
       "      <td>2.649252</td>\n",
       "    </tr>\n",
       "    <tr>\n",
       "      <th>15</th>\n",
       "      <td>1.654871</td>\n",
       "    </tr>\n",
       "    <tr>\n",
       "      <th>16</th>\n",
       "      <td>1.057051</td>\n",
       "    </tr>\n",
       "    <tr>\n",
       "      <th>17</th>\n",
       "      <td>0.675950</td>\n",
       "    </tr>\n",
       "    <tr>\n",
       "      <th>18</th>\n",
       "      <td>0.432380</td>\n",
       "    </tr>\n",
       "    <tr>\n",
       "      <th>19</th>\n",
       "      <td>0.276612</td>\n",
       "    </tr>\n",
       "    <tr>\n",
       "      <th>20</th>\n",
       "      <td>0.176971</td>\n",
       "    </tr>\n",
       "    <tr>\n",
       "      <th>21</th>\n",
       "      <td>0.113226</td>\n",
       "    </tr>\n",
       "    <tr>\n",
       "      <th>22</th>\n",
       "      <td>0.072444</td>\n",
       "    </tr>\n",
       "    <tr>\n",
       "      <th>23</th>\n",
       "      <td>0.046351</td>\n",
       "    </tr>\n",
       "    <tr>\n",
       "      <th>24</th>\n",
       "      <td>0.029657</td>\n",
       "    </tr>\n",
       "    <tr>\n",
       "      <th>25</th>\n",
       "      <td>0.018975</td>\n",
       "    </tr>\n",
       "  </tbody>\n",
       "</table>\n",
       "</div>"
      ],
      "text/plain": [
       "0     0.000035\n",
       "1     0.000092\n",
       "2     0.000244\n",
       "3     0.000644\n",
       "4     0.001700\n",
       "5     0.004486\n",
       "6     0.011835\n",
       "7     0.031184\n",
       "8     0.081914\n",
       "9     0.213410\n",
       "10    0.544082\n",
       "11    1.310246\n",
       "12    2.718231\n",
       "13    3.867582\n",
       "14    2.649252\n",
       "15    1.654871\n",
       "16    1.057051\n",
       "17    0.675950\n",
       "18    0.432380\n",
       "19    0.276612\n",
       "20    0.176971\n",
       "21    0.113226\n",
       "22    0.072444\n",
       "23    0.046351\n",
       "24    0.029657\n",
       "25    0.018975\n",
       "dtype: float64"
      ]
     },
     "execution_count": 714,
     "metadata": {},
     "output_type": "execute_result"
    }
   ],
   "source": [
    "# Multiply the proportions by the initial population and reduce the scale\n",
    "S *= system.p_0 * (1/1000000)\n",
    "R *= system.p_0 * (1/1000000)\n",
    "I *= system.p_0 * (1/1000000)"
   ]
  },
  {
   "cell_type": "code",
   "execution_count": 715,
   "metadata": {
    "scrolled": true
   },
   "outputs": [
    {
     "data": {
      "image/png": "[encoded data removed]",
      "text/plain": [
       "<Figure size 432x288 with 1 Axes>"
      ]
     },
     "metadata": {
      "needs_background": "light"
     },
     "output_type": "display_data"
    }
   ],
   "source": [
    "# Plot the results of running the simulation\n",
    "plot_results(S, I, R)"
   ]
  },
  {
   "cell_type": "markdown",
   "metadata": {},
   "source": [
    "### Results\n",
    "\n",
    "In the graph, we can see that the infected population increases rapidly until it reaches it's peak at day 13, before it decreases rapidly, reaching fractional values towards the end of the outbreak. Our susceptible and recovered populations are inversely related, rising and falling opposite to each other.\n",
    "\n",
    "The outbreak in the Democratic Republic of the Congo is going on right now. Because of this, we used data on the number of cases and deaths as of September 13th, 2018. \n",
    "\n",
    "As shown in the table above, the infected popuation reaches less than one person 21 days after beginning, October 4th, 2018, which is when our model predicts the outbreak will end.\n"
   ]
  }
 ],
 "metadata": {
  "kernelspec": {
   "display_name": "Python 3",
   "language": "python",
   "name": "python3"
  },
  "language_info": {
   "codemirror_mode": {
    "name": "ipython",
    "version": 3
   },
   "file_extension": ".py",
   "mimetype": "text/x-python",
   "name": "python",
   "nbconvert_exporter": "python",
   "pygments_lexer": "ipython3",
   "version": "3.6.6"
  }
 },
 "nbformat": 4,
 "nbformat_minor": 2
}
