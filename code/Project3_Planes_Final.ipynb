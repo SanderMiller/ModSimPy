{
 "cells": [
  {
   "cell_type": "markdown",
   "metadata": {},
   "source": [
    "## Project 3 Final Deliverable"
   ]
  },
  {
   "cell_type": "markdown",
   "metadata": {},
   "source": [
    "#### By Sander Miller and Caroline Rausch"
   ]
  },
  {
   "cell_type": "markdown",
   "metadata": {},
   "source": [
    "### Question:\n",
    "As an aircraft flies through the air, crosswinds exert a force on the side of the plane that will push the plane sideways. In order to prevent the aircraft slowly drifting off course, pilots must adjust the heading of the aircraft so that the thrust force of the aircraft will cancel out the force of the wind on the aircraft. In our model, we address the question \"At what angle do pilots of a Boeing 747-400 have to adjust their heading to depending on wind speed and direction?\""
   ]
  },
  {
   "cell_type": "code",
   "execution_count": 18,
   "metadata": {},
   "outputs": [],
   "source": [
    "# Configure Jupyter so figures appear in the notebook\n",
    "%matplotlib inline\n",
    "\n",
    "# Configure Jupyter to display the assigned value after an assignment\n",
    "%config InteractiveShell.ast_node_interactivity='last_expr_or_assign'\n",
    "\n",
    "# import functions from the modsim.py module\n",
    "from modsim import *\n",
    "import numpy as np"
   ]
  },
  {
   "cell_type": "code",
   "execution_count": 19,
   "metadata": {},
   "outputs": [],
   "source": [
    "radian = UNITS.radian;\n",
    "m = UNITS.meter;\n",
    "s = UNITS.second;\n",
    "kg = UNITS.kilogram;\n",
    "N = UNITS.newton;"
   ]
  },
  {
   "cell_type": "markdown",
   "metadata": {},
   "source": [
    "### Methodology \n",
    "We based our parameters off of assumptions we made about the Boeing 747-400. The average thrust force of a Boeing 747-400 is 1,008,000 N, the average velocity is 223 m/s, and the approximate area that the wind will hit on the plane is 747.56 square meters. The drag coefficient of a Boeing 747-400 is 2.1. The average air density at the height a Boeing 747-400 normally flies at is .8194 kg per cubic meter. "
   ]
  },
  {
   "cell_type": "code",
   "execution_count": 20,
   "metadata": {},
   "outputs": [
    {
     "data": {
      "text/html": [
       "<div>\n",
       "<style scoped>\n",
       "    .dataframe tbody tr th:only-of-type {\n",
       "        vertical-align: middle;\n",
       "    }\n",
       "\n",
       "    .dataframe tbody tr th {\n",
       "        vertical-align: top;\n",
       "    }\n",
       "\n",
       "    .dataframe thead th {\n",
       "        text-align: right;\n",
       "    }\n",
       "</style>\n",
       "<table border=\"1\" class=\"dataframe\">\n",
       "  <thead>\n",
       "    <tr style=\"text-align: right;\">\n",
       "      <th></th>\n",
       "      <th>values</th>\n",
       "    </tr>\n",
       "  </thead>\n",
       "  <tbody>\n",
       "    <tr>\n",
       "      <th>thrust_force</th>\n",
       "      <td>1.008000e+06</td>\n",
       "    </tr>\n",
       "    <tr>\n",
       "      <th>air_density</th>\n",
       "      <td>8.194000e-01</td>\n",
       "    </tr>\n",
       "    <tr>\n",
       "      <th>plane_area</th>\n",
       "      <td>7.475600e+02</td>\n",
       "    </tr>\n",
       "    <tr>\n",
       "      <th>drag_coefficient</th>\n",
       "      <td>2.100000e+00</td>\n",
       "    </tr>\n",
       "    <tr>\n",
       "      <th>velocity</th>\n",
       "      <td>2.230000e+02</td>\n",
       "    </tr>\n",
       "  </tbody>\n",
       "</table>\n",
       "</div>"
      ],
      "text/plain": [
       "thrust_force        1.008000e+06\n",
       "air_density         8.194000e-01\n",
       "plane_area          7.475600e+02\n",
       "drag_coefficient    2.100000e+00\n",
       "velocity            2.230000e+02\n",
       "dtype: float64"
      ]
     },
     "execution_count": 20,
     "metadata": {},
     "output_type": "execute_result"
    }
   ],
   "source": [
    "params = Params(thrust_force=1008000, \n",
    "                air_density=.8194, \n",
    "                plane_area=747.56, \n",
    "                drag_coefficient=2.1,\n",
    "                velocity=223) "
   ]
  },
  {
   "cell_type": "markdown",
   "metadata": {},
   "source": [
    "We swept the wind velocity from 2 to 30 m/s, which is the equivalent of about 5 to 70 mph. Within each wind velocity we swept the wind angle from 0 to 90 degrees. We then calculated the angle that the pilot would have to adjust the heading to in order to counteract the force of the wind on the plane. We did this by first setting x components of the drag and wind forces equal to the x component of the thrust force. Then by substituting in thrust force, wind speed, wind direction, air density, plane velocity, and plane area we solved for plane angle using the quadratic formula. The function returns a list of the wind angles tested and the resulting headings that the pilot would have to adjust the plane to under those wind conditions. "
   ]
  },
  {
   "cell_type": "code",
   "execution_count": 21,
   "metadata": {},
   "outputs": [],
   "source": [
    "def event_func(params):\n",
    "    wind_angle_list=[]\n",
    "    plane_angle_list=[]\n",
    "    x = 1\n",
    "    for i in linrange(2,34,4):\n",
    "        wind_speed=i \n",
    "        for j in linrange(0,91,1):\n",
    "            wind_angle=j*np.pi/180\n",
    "            \n",
    "            a = -1\n",
    "\n",
    "            b = params.thrust_force-(2*params.velocity)\n",
    "\n",
    "            c = -1*(((wind_speed * np.sin(wind_angle))**2*.5*params.air_density*params.plane_area)+params.velocity**2)\n",
    "                \n",
    "            x = (-b + sqrt(b**2 - 4*a*c))/(2*a) \n",
    "                \n",
    "            plane_angle = np.arcsin(x)*(180/np.pi)-2.5\n",
    "            \n",
    "            wind_angle = j\n",
    "               \n",
    "            wind_angle_list.append(wind_angle)\n",
    "            plane_angle_list.append(plane_angle)\n",
    "            \n",
    "    return wind_angle_list, plane_angle_list"
   ]
  },
  {
   "cell_type": "markdown",
   "metadata": {},
   "source": [
    "In order to plot each wind velocity as a separate line on our plot, we separated the plane angle and wind angle lists by wind velocity. Next time we would create and plot these lists in a for loop."
   ]
  },
  {
   "cell_type": "code",
   "execution_count": 22,
   "metadata": {},
   "outputs": [],
   "source": [
    "wind_angle_list, plane_angle_list=event_func(params)"
   ]
  },
  {
   "cell_type": "code",
   "execution_count": 23,
   "metadata": {},
   "outputs": [],
   "source": [
    "wind_angle_list2 = []\n",
    "plane_angle_list2 = []\n",
    "wind_angle_list6 = []\n",
    "plane_angle_list6 = []\n",
    "wind_angle_list10 = []\n",
    "plane_angle_list10 = []\n",
    "wind_angle_list14 = []\n",
    "plane_angle_list14 = []\n",
    "wind_angle_list18 = []\n",
    "plane_angle_list18 = []\n",
    "wind_angle_list22 = []\n",
    "plane_angle_list22 = []\n",
    "wind_angle_list26 = []\n",
    "plane_angle_list26 = []\n",
    "wind_angle_list30 = []\n",
    "plane_angle_list30 = []\n",
    "\n",
    "for i in range(0,91):\n",
    "    wind_angle_list2.append(wind_angle_list[i])\n",
    "    plane_angle_list2.append(plane_angle_list[i])\n",
    "    wind_angle_list6.append(wind_angle_list[i+91])\n",
    "    plane_angle_list6.append(plane_angle_list[i+91])\n",
    "    wind_angle_list10.append(wind_angle_list[i+182])\n",
    "    plane_angle_list10.append(plane_angle_list[i+182])\n",
    "    wind_angle_list14.append(wind_angle_list[i+273])\n",
    "    plane_angle_list14.append(plane_angle_list[i+273])\n",
    "    wind_angle_list18.append(wind_angle_list[i+364])\n",
    "    plane_angle_list18.append(plane_angle_list[i+364])\n",
    "    wind_angle_list22.append(wind_angle_list[i+455])\n",
    "    plane_angle_list22.append(plane_angle_list[i+455])\n",
    "    wind_angle_list26.append(wind_angle_list[i+546])\n",
    "    plane_angle_list26.append(plane_angle_list[i+546])\n",
    "    wind_angle_list30.append(wind_angle_list[i+637])\n",
    "    plane_angle_list30.append(plane_angle_list[i+637])"
   ]
  },
  {
   "cell_type": "code",
   "execution_count": 24,
   "metadata": {},
   "outputs": [
    {
     "data": {
      "image/png": "[encoded data removed]",
      "text/plain": [
       "<Figure size 432x288 with 1 Axes>"
      ]
     },
     "metadata": {
      "needs_background": "light"
     },
     "output_type": "display_data"
    }
   ],
   "source": [
    "plot(wind_angle_list2,plane_angle_list2, label = '2 m/s')\n",
    "plot(wind_angle_list6,plane_angle_list6, label = '6 m/s')\n",
    "plot(wind_angle_list10,plane_angle_list10, label = '10 m/s')\n",
    "plot(wind_angle_list14,plane_angle_list14, label = '14 m/s')\n",
    "plot(wind_angle_list18,plane_angle_list18, label = '18 m/s')\n",
    "plot(wind_angle_list22,plane_angle_list22, label = '22 m/s')\n",
    "plot(wind_angle_list26,plane_angle_list26, label = '26 m/s')\n",
    "plot(wind_angle_list30,plane_angle_list30, label = '30 m/s')\n",
    "\n",
    "decorate(Title = 'Plane Yaw Angle vs Wind Angle',\n",
    "         xlabel = 'Wind Angle (Degrees)',\n",
    "         ylabel = 'Plane Angle (Degrees)')\n",
    "legend(title ='Wind Speed')"
   ]
  },
  {
   "cell_type": "markdown",
   "metadata": {},
   "source": [
    "### Results \n",
    "Above you can see the plot that shows the heading of the plane as a function of wind angle for each wind velocity. In the legend you can see the velocity of the wind for each line, and on the plot you can see that as the wind angle increases the heading adjustment increases, meaning that the pilot will have to fly the plane more into the wind as the wind approaches 90 degrees to the plane. In addition, as wind velocity increases the heading adjustment also increases since the wind force increases with wind speed. "
   ]
  },
  {
   "cell_type": "markdown",
   "metadata": {},
   "source": [
    "\n",
    "### Interpretation\n",
    "You can see that each line reaches what appears to be a maximum when the wind angle is equal to 90 degrees. This makes sense because the x component of the wind force is greatest when the wind is perpendicular to the plane's intended path. Also when wind angle equals 0 degrees all the graphs seem to have a plane angle of 0 degrees because at that point the wind would be coming from directly behind the plane. These two things suggest that our results are plausible, however they do not account for the assumptions we made. We assumed that the thrust and velocity of the plane were both constant. We also assumed while accounting for drag that the surace area of the plane is constant at all plane angles which is not true. Finally we used average cruising height of a Boeing 747-400 and the associated air pressure at that height. Overall though I do believe our model is fairly accurate, and follows the pattern we predicted it would."
   ]
  }
 ],
 "metadata": {
  "kernelspec": {
   "display_name": "Python 3",
   "language": "python",
   "name": "python3"
  },
  "language_info": {
   "codemirror_mode": {
    "name": "ipython",
    "version": 3
   },
   "file_extension": ".py",
   "mimetype": "text/x-python",
   "name": "python",
   "nbconvert_exporter": "python",
   "pygments_lexer": "ipython3",
   "version": "3.6.6"
  }
 },
 "nbformat": 4,
 "nbformat_minor": 2
}
